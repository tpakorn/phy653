{
 "cells": [
  {
   "cell_type": "markdown",
   "metadata": {},
   "source": [
    "# Lecture 5: Many Particles Systems\n",
    "\n",
    "We will now be looking into systems with *many* particles. We will extend our previous code to handle many particles and also look at how to handle the interactions between them. These particles are no longer passive and can alter the fields that they are in.\n",
    "\n",
    "### Time Integration\n",
    "\n",
    "Each particle will have their position and velocity updated by an explicit Leapfrog method. We have previously looked at the Leapfrog method in a form of `Heun_step`."
   ]
  },
  {
   "cell_type": "code",
   "execution_count": 1,
   "metadata": {},
   "outputs": [],
   "source": [
    "def Heun_step(f, t, y, h):\n",
    "    k1 = f(t, y)\n",
    "    k2 = f(t + h, y + h * k1)\n",
    "    return y + 0.5 * h * (k1 + k2)    "
   ]
  },
  {
   "cell_type": "markdown",
   "metadata": {},
   "source": [
    "An alternative form of the Leapfrog method is given by a mneumonic 'kick-drift-kick' method.\n",
    "\n",
    "$$\n",
    "\\begin{aligned}\n",
    "\\mathbf{v}_{n+1 / 2} & =\\mathbf{v}_n+\\frac{\\Delta t}{2} \\cdot \\mathbf{a}_n \\\\\n",
    "\\mathbf{x}_{n+1} & = \\mathbf{x}_n+\\Delta t \\cdot \\mathbf{v}_{n+1 / 2} \\\\\n",
    "\\mathbf{v}_{n+1} & =\\mathbf{v}_{n+1 / 2}+\\frac{\\Delta t}{2} \\cdot \\mathbf{a}_{n+1}\n",
    "\\end{aligned}\n",
    "$$\n",
    "\n",
    "Show that the two are equivalent."
   ]
  },
  {
   "cell_type": "markdown",
   "metadata": {},
   "source": [
    "## 1. Gravitational N-body Simulation\n",
    "\n",
    "We will now look at a system of $N$ particles interacting via gravity, indexed by $i=1, \\ldots, N$. Each particle has a:\n",
    "- mass $m_i$,\n",
    "- position $r_i=\\left[x_i, y_i, z_i\\right]$,\n",
    "- velocity $\\mathrm{v}_i=\\left[\\mathrm{vx}_i, \\mathrm{v}_i, \\mathrm{v}_i\\right]$\n",
    "\n",
    "The acceleration on a particle $i$ is given by\n",
    "\n",
    "$$\n",
    "\\mathbf{a}_{i}= G \\sum_{j \\neq i}^N \\frac{ m_{j}\\left(\\mathbf{x}_{j}-\\mathbf{x}_{i}\\right)}{\\left|\\mathbf{x}_{j}-\\mathbf{x}_{i}\\right|^{3}}\n",
    "$$\n",
    "\n",
    "where $G$ is the gravitational constant, $m_j$ is the mass of particle $j$ and $\\mathbf{x}_j$ is the position of particle $j$.\n",
    "\n",
    "**Write a simulation of this system. Vectorize your code and plot the trajectories of the particles in the centre of mass frame.**"
   ]
  },
  {
   "cell_type": "code",
   "execution_count": 7,
   "metadata": {},
   "outputs": [],
   "source": [
    "import numpy as np\n",
    "number_of_particle = 10\n",
    "dimension = 2\n",
    "x = np.random.rand(number_of_particle,dimension) * 20\n",
    "v = np.random.rand(number_of_particle,dimension) * 10\n",
    "m = np.random.rand(number_of_particle,1) * 2\n",
    "\n",
    "#def\n",
    "\n",
    "\n",
    "def gravitational_acceleration(x):\n",
    "    G=1\n",
    "    M=np.random.rand(number_of_particle,dimension) * 2\n",
    "    #a = \n",
    "    return a"
   ]
  },
  {
   "cell_type": "code",
   "execution_count": 9,
   "metadata": {},
   "outputs": [
    {
     "data": {
      "text/plain": [
       "array([[5.86114732, 3.87738363],\n",
       "       [8.34001195, 2.64715036],\n",
       "       [1.87791324, 2.62505602],\n",
       "       [9.90411871, 6.09848992],\n",
       "       [4.25050279, 9.43281985],\n",
       "       [1.83794613, 2.3174838 ],\n",
       "       [1.39937649, 0.3477311 ],\n",
       "       [1.82686522, 4.50960239],\n",
       "       [1.62004378, 8.56728596],\n",
       "       [7.96462301, 9.26642176]])"
      ]
     },
     "execution_count": 9,
     "metadata": {},
     "output_type": "execute_result"
    }
   ],
   "source": [
    "np.random.rand(number_of_particle,dimension)*10"
   ]
  },
  {
   "cell_type": "markdown",
   "metadata": {},
   "source": [
    "\n",
    "### 1.1 Energy Evolution.\n",
    "\n",
    "For $N \\geq 100$, find an evolution of kinetic and potential energy. Prove that the virial theorem holds for this system.\n",
    "\n",
    "> **Virial Theorem**\n",
    ">\n",
    ">The time-averaged kinetic energy of a bound system is equal to minus half of its time-averaged potential energy, i.e.,\n",
    ">\n",
    ">$$\n",
    ">2\\langle K\\rangle=-\\langle U\\rangle\n",
    ">$$\n",
    ">\n",
    ">$\\langle U\\rangle$ represents the time-averaged potential energy. The virial theorem is a powerful tool in astrophysics >and statistical mechanics for understanding the equilibrium and stability of systems."
   ]
  },
  {
   "cell_type": "code",
   "execution_count": null,
   "metadata": {},
   "outputs": [],
   "source": [
    "### solution to 1.1"
   ]
  },
  {
   "cell_type": "markdown",
   "metadata": {},
   "source": [
    "\n",
    "\n",
    "### 1.2 The Three Body Problem\n",
    "\n",
    "The three-body problem involves predicting the motion of three celestial bodies influenced by mutual gravitational attraction. Unlike the two-body problem, the gravitational interactions in three-body systems often result in chaotic and unpredictable orbital dynamics. Analytical solutions for the general three-body problem are elusive, requiring numerical methods and simulations. This complexity makes it a challenging yet crucial aspect of celestial mechanics, impacting our understanding of planetary motion and celestial dynamics. Ongoing research continues to delve into the intricate orbital patterns that emerge in these systems.\n",
    "\n",
    "<div style=\"text-align:center\">\n",
    "    <figure>\n",
    "        <img src=\"https://upload.wikimedia.org/wikipedia/commons/5/5a/5_4_800_36_downscaled.gif\" alt=\"3body-problem\" style=\"width: 600px;background-color: white;\">\n",
    "        <figcaption>Fig.1 20 examples of periodic solutions to the three-body problem. (Canagrisa, Wikipedia)</figcaption>\n",
    "    </figure>\n",
    "</div>\n",
    "\n",
    "\n",
    "We will now look at a system of three particles interacting via gravity, indexed by $i=1,2,3$. Can you find a stable orbit for the three body system? What happens when you change the initial conditions? If your solution is not stable, what does it do?"
   ]
  },
  {
   "cell_type": "code",
   "execution_count": null,
   "metadata": {},
   "outputs": [],
   "source": [
    "## solution to 1.2"
   ]
  },
  {
   "cell_type": "markdown",
   "metadata": {},
   "source": [
    "## 2. 1D Two-Stream Instability\n",
    "\n",
    "<ins>Reference</ins>:\n",
    "- https://en.wikipedia.org/wiki/Two-stream_instability\n",
    "- Philip Mocz, *Create Your Own Plasma PIC Simulation (With Python)*, Medium 2020\n",
    "\n",
    "The two-stream instability is a collective instability of a plasma. It is a parametric instability driven by the interaction of two counter-propagating waves of similar frequency. The instability is driven by the interaction of the waves with the electrons in the plasma. The electrons are accelerated by the electric field of the waves, and the waves are modified by the motion of the electrons.\n",
    "\n",
    "<div style=\"text-align:center\">\n",
    "    <figure>\n",
    "        <img src=\"twostream.png\" alt=\"twostream\" style=\"width: 600px;background-color: white;\">\n",
    "        <figcaption>Fig.2 Phase Diagram of Two-Stream Instability. </figcaption>\n",
    "    </figure>\n",
    "</div>\n",
    "\n",
    "We will consider a one-dimensional system of electrons in an unmagnetized uniform medium of ions. Each electron has a position $x_i$ and velocity $v_i$. The velocity and acceleration on a particle $i$ is given by\n",
    "\n",
    "$$\n",
    "\\begin{gathered}\n",
    "\\frac{d r_i}{d t}=v_i \\\\\n",
    "\\frac{d v_i}{d t}=a_i=-E\\left(r_i\\right)\n",
    "\\end{gathered}\n",
    "$$\n",
    "\n",
    "### 2.1 Solving Poisson Equation\n",
    "\n",
    "We showed in the previous lecture that we can solve Poisson equation using Gauss-Seidel method. Here we will solve the Poisson equation using `spsolve`.\n",
    "\n",
    "The `spsolve` function in the `scipy.sparse.linalg` module of Python's `scipy` library is designed for efficiently solving sparse linear systems of equations in the form\n",
    "\n",
    "$$Ax = b.$$ \n",
    "\n",
    "For matrix $A$ and vectors $x$ and $b$. An example can be founded below."
   ]
  },
  {
   "cell_type": "code",
   "execution_count": 3,
   "metadata": {},
   "outputs": [
    {
     "name": "stdout",
     "output_type": "stream",
     "text": [
      "[4. 3. 3.]\n"
     ]
    }
   ],
   "source": [
    "import numpy as np\n",
    "from scipy.sparse.linalg import spsolve\n",
    "from scipy.sparse import csr_matrix\n",
    "\n",
    "# Create a sparse matrix (in CSR format)\n",
    "A_sparse = csr_matrix([[1, 0, 0], [0, 2, 0], [0, 0, 3]])\n",
    "\n",
    "# Right-hand side vector\n",
    "b = np.array([4, 6, 9])\n",
    "\n",
    "# Solve the linear system Ax = b\n",
    "x = spsolve(A_sparse, b)\n",
    "\n",
    "print(x)\n"
   ]
  },
  {
   "cell_type": "markdown",
   "metadata": {},
   "source": [
    "An electric potential $\\phi$ satisfies the 1D Poisson equation\n",
    "$$\n",
    "\\begin{aligned}\n",
    "E(x) & =-\\frac{d \\phi}{d x} \\\\\n",
    "\\frac{d^2 \\phi(x)}{d x^2} & =n-n_0\n",
    "\\end{aligned}\n",
    "$$\n",
    "\n",
    "where we can use finite difference to discretize the equation\n",
    "\n",
    "$$\n",
    "\\frac{d^2 \\phi\\left(x_j\\right)}{d x^2} \\simeq \\frac{\\phi_{j-1}-2 \\phi_j+\\phi_{j+1}}{(\\Delta x)^2}\n",
    "$$\n",
    "\n",
    "The equation can be written as a system of linear equations in matrix form:\n",
    "\n",
    "$$\n",
    "\\frac{1}{(\\Delta x)^2}\\left[\\begin{array}{cccccc}\n",
    "-2 & 1 & & & \\cdots & 1 \\\\\n",
    "1 & -2 & 1 & & & \\\\\n",
    "& 1 & -2 & 1 & & \\\\\n",
    "\\vdots & & & \\ddots & & \\\\\n",
    "& & & 1 & -2 & 1 \\\\\n",
    "1 & & & & 1 & -2\n",
    "\\end{array}\\right]\\left[\\begin{array}{c}\n",
    "\\phi_1 \\\\\n",
    "\\phi_2 \\\\\n",
    "\\phi_3 \\\\\n",
    "\\vdots \\\\\n",
    "\\phi_{m-1} \\\\\n",
    "\\phi_m\n",
    "\\end{array}\\right]=\\left[\\begin{array}{c}\n",
    "n_1 \\\\\n",
    "n_2 \\\\\n",
    "n_3 \\\\\n",
    "\\vdots \\\\\n",
    "n_{m-1} \\\\\n",
    "n_m\n",
    "\\end{array}\\right]-n_0\n",
    "$$\n",
    "\n",
    "The matrix represents the Laplacian operator and is sparse and tridiagonal. Here we have assumed periodic boundary conditions. An example is given below."
   ]
  },
  {
   "cell_type": "code",
   "execution_count": 1,
   "metadata": {},
   "outputs": [
    {
     "name": "stderr",
     "output_type": "stream",
     "text": [
      "/Library/Frameworks/Python.framework/Versions/3.9/lib/python3.9/site-packages/scipy/sparse/linalg/_dsolve/linsolve.py:214: SparseEfficiencyWarning: spsolve requires A be CSC or CSR matrix format\n",
      "  warn('spsolve requires A be CSC or CSR matrix format',\n"
     ]
    },
    {
     "data": {
      "image/png": "[encoded data removed]",
      "text/plain": [
       "<Figure size 640x480 with 1 Axes>"
      ]
     },
     "metadata": {},
     "output_type": "display_data"
    }
   ],
   "source": [
    "import numpy as np\n",
    "from scipy.sparse import diags\n",
    "from scipy.sparse.linalg import spsolve\n",
    "import matplotlib.pyplot as plt\n",
    "\n",
    "# Parameters\n",
    "m = 100  # Number of grid points\n",
    "L = 1.0  # Length of the domain\n",
    "dx = L / m  # Grid spacing\n",
    "n0 = 0.0  # Background charge density\n",
    "n_values = 2 * np.sin(2 * np.pi * np.linspace(0, 1, m))  # Different charge density values\n",
    "E_values = np.zeros(m)  # Array for electric field at each grid point\n",
    "\n",
    "# Construct the tridiagonal matrix for Laplacian operator with periodic boundary conditions\n",
    "main_diag = -2 * np.ones(m)\n",
    "off_diag = np.ones(m - 1)\n",
    "laplacian_matrix = diags([off_diag, main_diag, off_diag], [-1, 0, 1], shape=(m, m)).toarray()\n",
    "laplacian_matrix[0, -1] = 1  # Periodic boundary condition at x=0\n",
    "laplacian_matrix[-1, 0] = 1  # Periodic boundary condition at x=L\n",
    "laplacian_matrix /= dx**2\n",
    "\n",
    "# Solve the system of linear equations\n",
    "phi_values = spsolve(laplacian_matrix, n_values - n0)\n",
    "\n",
    "# Plot the results\n",
    "x_values = np.linspace(0, L, m, endpoint=False)\n",
    "plt.plot(x_values, phi_values, label='Electric Potential ($\\phi$)')\n",
    "plt.xlabel('Position (x)')\n",
    "plt.ylabel('Electric Potential')\n",
    "plt.title('Solution to 1D Poisson Equation with Periodic Boundary Conditions')\n",
    "plt.legend()\n",
    "plt.show()\n"
   ]
  },
  {
   "cell_type": "markdown",
   "metadata": {},
   "source": [
    "### 2.2 Electric Field Calculation\n",
    "\n",
    "We find the electric field from gradient of the potential $E = - \\nabla \\phi$, where we can approximate the gradient using finite difference\n",
    "\n",
    "$$\n",
    "\\frac{d \\phi\\left(x_j\\right)}{d x} \\simeq \\frac{\\phi_{j+1}-\\phi_{j-1}}{2 \\Delta x}\n",
    "$$\n",
    "\n",
    "We could also can calculate this gradient as a matrix multiplication\n",
    "\n",
    "$$\n",
    "\\left[\\begin{array}{c}\n",
    "E_1 \\\\\n",
    "E_2 \\\\\n",
    "E_3 \\\\\n",
    "\\vdots \\\\\n",
    "E_{m-1} \\\\\n",
    "E_m\n",
    "\\end{array}\\right]=-\\frac{1}{2 \\Delta x}\\left[\\begin{array}{cccccc}\n",
    "0 & 1 & & & \\cdots & -1 \\\\\n",
    "-1 & 0 & 1 & & & \\\\\n",
    "& -1 & 0 & 1 & & \\\\\n",
    "\\vdots & & & \\ddots & & \\\\\n",
    "& & & -1 & 0 & 1 \\\\\n",
    "1 & & & & -1 & 0\n",
    "\\end{array}\\right]\\left[\\begin{array}{c}\n",
    "\\phi_1 \\\\\n",
    "\\phi_2 \\\\\n",
    "\\phi_3 \\\\\n",
    "\\vdots \\\\\n",
    "\\phi_{m-1} \\\\\n",
    "\\phi_m\n",
    "\\end{array}\\right]\n",
    "$$\n",
    "\n",
    "Given the potential $\\phi$ found above, calculate the electric field $E$."
   ]
  },
  {
   "cell_type": "code",
   "execution_count": 2,
   "metadata": {},
   "outputs": [
    {
     "data": {
      "image/png": "[encoded data removed]",
      "text/plain": [
       "<Figure size 640x480 with 1 Axes>"
      ]
     },
     "metadata": {},
     "output_type": "display_data"
    }
   ],
   "source": [
    "import numpy as np\n",
    "import matplotlib.pyplot as plt\n",
    "\n",
    "# Parameters\n",
    "m = 100  # Number of grid points\n",
    "L = 1.0  # Length of the domain\n",
    "dx = L / m  # Grid spacing\n",
    "\n",
    "# Function to calculate electric field from potential\n",
    "def calculate_electric_field(phi_values, dx):\n",
    "    # Construct the matrix for finite difference gradient\n",
    "    gradient_matrix = -0.5 * (np.roll(np.eye(m), 1, axis=1) - np.roll(np.eye(m), -1, axis=1))\n",
    "    gradient_matrix[0, -1] = -0.5  # Adjust for periodic boundary conditions\n",
    "    gradient_matrix[-1, 0] = 0.5   # Adjust for periodic boundary conditions\n",
    "\n",
    "    # Calculate electric field using matrix multiplication\n",
    "    electric_field_values = np.dot(gradient_matrix, phi_values) / dx\n",
    "\n",
    "    return electric_field_values\n",
    "\n",
    "# Example: Using the phi_values from the previous example\n",
    "phi_values = spsolve(laplacian_matrix, n_values - n0)\n",
    "\n",
    "# Calculate the electric field\n",
    "electric_field_values = calculate_electric_field(phi_values, dx)\n",
    "\n",
    "# Plot the electric field\n",
    "x_values = np.linspace(0, L, m, endpoint=False)\n",
    "plt.plot(x_values, electric_field_values, label='Electric Field ($E$)')\n",
    "plt.xlabel('Position (x)')\n",
    "plt.ylabel('Electric Field')\n",
    "plt.title('Electric Field Calculation from Potential')\n",
    "plt.legend()\n",
    "plt.show()\n"
   ]
  },
  {
   "cell_type": "markdown",
   "metadata": {},
   "source": [
    "### 2.3 Density Calculation\n",
    "\n",
    "The density is obtained by binning the particles onto the mesh gridpoints. \n",
    "\n",
    "$$\n",
    "\\begin{aligned}\n",
    "& n_j+=\\frac{x_{j+1}-r_i}{\\Delta x} \\\\\n",
    "& n_{j+1}+=\\frac{r_i-x_j}{\\Delta x}\n",
    "\\end{aligned}\n",
    "$$\n",
    "\n",
    "We can use `np.bincount` for this process.\n",
    "\n",
    "And electric field is calculated by interpolation\n",
    "\n",
    "$$\n",
    "E_i=\\frac{x_{j+1}-r_i}{\\Delta x} E_j+\\frac{r_i-x_j}{\\Delta x} E_{j+1}\n",
    "$$\n",
    "\n",
    "### 2.4 Simulate the streaming instability\n",
    "\n",
    "We can start with the initial condition below. The initial condition is a Gaussian distribution of particles with a small perturbation."
   ]
  },
  {
   "cell_type": "code",
   "execution_count": 21,
   "metadata": {},
   "outputs": [],
   "source": [
    "import numpy as np\n",
    "\n",
    "# Example Simulation parameters\n",
    "num_particles = 40000   # Number of particles\n",
    "num_cells = 400     # Number of mesh cells\n",
    "current_time = 0       # Current time of the simulation\n",
    "end_time = 50      # Time at which simulation ends\n",
    "time_step = 1       # Timestep\n",
    "domain_size = 50      # Periodic domain [0, domain_size]\n",
    "electron_density = 1       # Electron number density\n",
    "beam_velocity = 3       # Beam velocity\n",
    "beam_width = 1       # Beam width\n",
    "perturbation = 0.1     # Perturbation\n",
    "\n",
    "#  Initial Condition\n",
    "# construct 2 opposite-moving Gaussian beams\n",
    "positions = np.random.rand(num_particles, 1) * domain_size\n",
    "velocities = beam_width * np.random.randn(num_particles, 1) + beam_velocity\n",
    "half_particles = int(num_particles / 2)\n",
    "velocities[half_particles:] *= -1\n",
    "# add perturbation\n",
    "velocities *= (1 + perturbation * np.sin(2 * np.pi * positions / domain_size))"
   ]
  },
  {
   "cell_type": "markdown",
   "metadata": {},
   "source": [
    "### 2.5 Phase Space\n",
    "\n",
    "Phase space is a mathematical concept commonly used in physics and dynamical systems theory to describe the collective behavior of a system of particles or objects. It is a multi-dimensional space where each point represents a unique state of the system, typically defined by the positions and momenta of the constituent particles. In classical mechanics, the phase space is a 6N-dimensional space, where N is the number of particles, accommodating the three spatial coordinates and their corresponding momenta for each particle. Trajectories in phase space depict the time evolution of a system, offering insights into its dynamics and revealing patterns such as periodic orbits or chaotic behavior.\n",
    "\n",
    "Plot the phase space $(\\mathbf{x},\\mathbf{v})$ of the particles. What do you see?"
   ]
  },
  {
   "cell_type": "code",
   "execution_count": null,
   "metadata": {},
   "outputs": [],
   "source": [
    "# 2.5 Phase Space"
   ]
  },
  {
   "cell_type": "markdown",
   "metadata": {},
   "source": [
    "### 2.6 Growth Rate\n",
    "\n",
    "Experiment with your code and determine the growth rate of the instability. How does it depend on the number of particles? How does it depend on the number of grid points? How does it depend on the initial perturbation?"
   ]
  },
  {
   "cell_type": "code",
   "execution_count": 22,
   "metadata": {},
   "outputs": [],
   "source": [
    "# 2.6 Growth Rate"
   ]
  }
 ],
 "metadata": {
  "kernelspec": {
   "display_name": "Python 3 (ipykernel)",
   "language": "python",
   "name": "python3"
  },
  "language_info": {
   "codemirror_mode": {
    "name": "ipython",
    "version": 3
   },
   "file_extension": ".py",
   "mimetype": "text/x-python",
   "name": "python",
   "nbconvert_exporter": "python",
   "pygments_lexer": "ipython3",
   "version": "3.9.12"
  }
 },
 "nbformat": 4,
 "nbformat_minor": 2
}
