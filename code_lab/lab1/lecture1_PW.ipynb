{
 "cells": [
  {
   "cell_type": "markdown",
   "metadata": {},
   "source": [
    "# Lecture 1: Python Basics and Particle Projectile Simulation\n",
    "In this lecture, we will cover basic Python concepts and use them to create a particle projectile simulation.\n",
    "\n",
    "## Motivation\n",
    "\n",
    "Python is a powerful programming language that is widely used in scientific computing. It is a high-level language that is easy to learn and use. It is also open-source and has a large community of users and developers. These factors make Python an excellent choice for scientific computing.\n",
    "\n",
    "Jupyter also allows us to combine code, text, LaTeX equations, and visualizations in a single document.\n",
    "\n",
    "In this lecture, we will cover the basics of Python and use them to create a particle projectile simulation. This simulation will be used to study the motion of a charged particle in an electromagnetic field. This is a fundamental problem in plasma physics, and the simulation will serve as a starting point for more advanced simulations.\n",
    "\n",
    "<div style=\"text-align:center\">\n",
    "    <figure>\n",
    "        <img src=\"pic2.png\" alt=\"Plasma Examples\" style=\"width: 1000px;\">\n",
    "        <figcaption>Fig.1 Plasma Examples</figcaption>\n",
    "    </figure>\n",
    "</div>\n",
    "\n",
    "The self-consistent interaction between electromagnetic fields and a statistically large ensemble of charged particles forms the foundation of the study of plasma physics. In this context, the dynamics of charged particles are influenced by the electromagnetic fields they generate, while the electromagnetic fields are shaped by the collective motion of the charged particles.\n",
    "\n",
    "The Lorentz equation governs the motion of individual charged particles in the presence of electromagnetic fields. It is expressed as:\n"
   ]
  },
  {
   "cell_type": "markdown",
   "id": "61829dd1",
   "metadata": {},
   "source": [
    "# Try LaTeX.\n",
    "Write an equation for Lorentz equation of motion.\n",
    "\n",
    "$$\n",
    "\\mathbf{F} = q (\\mathbf{E} + \\mathbf{v} \\times \\mathbf{B})\n",
    "$$\n",
    "\n",
    "$$\n",
    "F = q(E + v x B)\n",
    "$$\n",
    "\n",
    "$$\n",
    "\\Phi = \\oint \\mathbf{B} \\cdot d\\mathbf{A}\n",
    "$$\n",
    "\n",
    "$$\n",
    "m \\dfrac{d^2 \\mathbf{x}}{dt^2} = q (\\mathbf{E} (\\mathbf{x}, t) + \\mathbf{v} \\times \\mathbf{B} (\\mathbf{x}, t))\n",
    "$$"
   ]
  },
  {
   "cell_type": "markdown",
   "id": "7789f844",
   "metadata": {},
   "source": [
    "\n",
    "Where:\n",
    "- $m$ is the mass of the particle,\n",
    "- $q$ is the charge of the particle,\n",
    "- $v$ is the velocity of the particle,\n",
    "- $E$ is the electric field,\n",
    "- $B$ is the magnetic field.\n",
    "\n",
    "Maxwell's equations describe the behavior of electromagnetic fields in space and time. These equations capture the fundamental relationships between electric and magnetic fields and their sources, which include charge densities and currents. The relevant equations are:\n",
    "\n",
    "1. Gauss's Law for Electricity:\n",
    "$$\\nabla \\cdot E = \\frac{\\rho}{\\varepsilon_0}$$\n",
    "Where $\\rho$ is the charge density and $\\varepsilon_0$ is the vacuum permittivity.\n",
    "\n",
    "2. Gauss's Law for Magnetism:\n",
    "$$\\nabla \\cdot B = 0$$\n",
    "\n",
    "3. Faraday's Law of Electromagnetic Induction:\n",
    "$$\\nabla \\times E = -\\frac{\\partial B}{\\partial t}$$\n",
    "\n",
    "4. Ampère's Law with Maxwell's Addition:\n",
    "$$\\nabla \\times B = \\mu_0 J + \\mu_0 \\varepsilon_0 \\frac{\\partial E}{\\partial t}$$\n",
    "Where $J$ is the current density, $\\mu_0$ is the vacuum permeability.\n",
    "\n",
    "The self-consistency emerges when the charged particles, represented by the current density $J$ and charge density $\\rho$, are influenced by the electromagnetic fields as per the Lorentz equation. Simultaneously, the electromagnetic fields evolve according to Maxwell's equations, which in turn depend on the charge and current distributions of the charged particles.\n",
    "\n",
    "This interplay between the Lorentz equation and Maxwell's equations results in a self-consistent coupling between the motion of charged particles and the electromagnetic fields they generate. It leads to complex collective behaviors and phenomena, such as plasma oscillations, wave-particle interactions, and instabilities, which are fundamental in plasma physics research and applications.\n",
    "\n",
    "<div style=\"text-align:center\">\n",
    "    <figure>\n",
    "        <img src=\"pic1.png\" alt=\"Plasma Examples\" style=\"width: 700px;\">\n",
    "        <figcaption>Fig.2 Fields and Particles in Plasma Simulation</figcaption>\n",
    "    </figure>\n",
    "</div>\n"
   ]
  },
  {
   "cell_type": "markdown",
   "metadata": {},
   "source": [
    "## Python Basics\n",
    "### Arrays, Loops, Plots, and Animations"
   ]
  },
  {
   "cell_type": "markdown",
   "metadata": {},
   "source": [
    "In this section, we will explore some Python basics and learn about arrays, loops, plots, and animations."
   ]
  },
  {
   "cell_type": "code",
   "execution_count": 1,
   "id": "5b33d8b1",
   "metadata": {},
   "outputs": [],
   "source": [
    "import numpy as np"
   ]
  },
  {
   "cell_type": "code",
   "execution_count": 2,
   "id": "e1c84c2a",
   "metadata": {},
   "outputs": [
    {
     "data": {
      "text/plain": [
       "Text(0, 0.5, 'y')"
      ]
     },
     "execution_count": 2,
     "metadata": {},
     "output_type": "execute_result"
    },
    {
     "data": {
      "image/png": "[encoded data removed]",
      "text/plain": [
       "<Figure size 500x200 with 1 Axes>"
      ]
     },
     "metadata": {},
     "output_type": "display_data"
    }
   ],
   "source": [
    "## plotting y = x^2\n",
    "\n",
    "import matplotlib.pyplot as plt\n",
    "import numpy as np\n",
    "\n",
    "xx = np.linspace(0, 1, 100)\n",
    "yy = np.sin(20 * xx)\n",
    "\n",
    "plt.figure(figsize= (5,2))\n",
    "plt.plot(xx, yy)\n",
    "plt.xlabel('x')\n",
    "plt.ylabel('y')"
   ]
  },
  {
   "cell_type": "markdown",
   "metadata": {},
   "source": [
    "Let's start by importing the necessary libraries for our Python code:"
   ]
  },
  {
   "cell_type": "code",
   "execution_count": null,
   "metadata": {},
   "outputs": [],
   "source": [
    "# Import necessary libraries\n",
    "import numpy as np\n",
    "import matplotlib.pyplot as plt\n",
    "from matplotlib.animation import FuncAnimation\n",
    "\n"
   ]
  },
  {
   "cell_type": "markdown",
   "metadata": {},
   "source": [
    "Now, let's create an array and use it to plot a simple sinusoidal function using matplotlib:"
   ]
  },
  {
   "cell_type": "code",
   "execution_count": null,
   "metadata": {},
   "outputs": [],
   "source": [
    "# make a sin plot with labels and title\n"
   ]
  },
  {
   "cell_type": "markdown",
   "metadata": {},
   "source": [
    "## Particle Projectile Simulation (Constant E field)\n",
    "### Modeling Projectile Motion with Energy Loss"
   ]
  },
  {
   "cell_type": "markdown",
   "metadata": {},
   "source": [
    "Imagine we have a particle projected vertically upwards. It experiences gravitational\n",
    "attraction and loses some energy upon bouncing off the ground. Let's break down\n",
    "the simulation into teaching sections.\n",
    "\n",
    "## Equation of Motion of the Projectile\n",
    "\n",
    "In the context of our particle projectile simulation, we need to understand the equation of motion governing the vertical motion of the particle. The equation of motion for the vertical direction can be given as:\n",
    "\n",
    "$$\n",
    "y(t) = y_0 + v_{y,0} t - \\frac{1}{2} g t^2\n",
    "$$\n",
    "\n",
    "Where:\n",
    "- $y(t)$ is the height of the particle at time $t$,\n",
    "- $s_0$ is the initial height,\n",
    "- $v_0$ is the initial velocity,\n",
    "- $g$ is the acceleration due to gravity.\n",
    "\n",
    "and \n",
    "\n",
    "$$\n",
    "x(t) = x_0 + v_{x,0} t\n",
    "$$\n",
    "\n",
    "In our simulation, we are also considering energy loss upon bouncing off the ground. This is modeled by reducing the particle's velocity and height according to the energy loss fraction upon each bounce. The updated equations for the velocity and height after bouncing are:\n",
    "\n",
    "$$\n",
    "v_{\\text{new}} = -v_{\\text{old}} \\times \\text{energy\\_loss\\_fraction}\n",
    "$$\n",
    "\n",
    "$$\n",
    "y_{\\text{new}} = -y_{\\text{old}} \\times \\text{energy\\_loss\\_fraction}\n",
    "$$\n",
    "\n",
    "The concept of a constant gravitational acceleration $ g $ in the context of projectile motion can be analogous to a constant electric field $ E $ acting on a particle with charge $ q $ in electromagnetics.\n",
    "\n",
    "For a particle experiencing a constant gravitational acceleration $ g $, its equation of motion in the vertical direction is given by:\n",
    "\n",
    "$$\n",
    "y(t) = y_0 + v_{y,0} t - \\frac{1}{2} g t^2\n",
    "$$\n",
    "\n",
    "In electromagnetics, a charged particle with charge $ q $ experiencing a constant electric field $ E $ will follow a similar equation of motion in the absence of other forces:\n",
    "\n",
    "$$ y(t) = y_0 + v_{y,0}t + \\frac{1}{2} \\frac{qE}{m} t^2 $$\n",
    "\n",
    "Where:\n",
    "- $ s(t) $ is the displacement of the particle at time $ t $,\n",
    "- $ s_0 $ is the initial displacement,\n",
    "- $ v_0 $ is the initial velocity,\n",
    "- $ g $ is the gravitational acceleration,\n",
    "- $ q $ is the charge of the particle,\n",
    "- $ E $ is the electric field strength,\n",
    "- $ m $ is the mass of the particle.\n",
    "\n",
    "This analogy highlights that in both scenarios, the acceleration contributes to the change in the particle's position over time, whether it is\n"
   ]
  },
  {
   "cell_type": "markdown",
   "metadata": {},
   "source": [
    "### Section 1: Importing Libraries and Setting Up Parameters\n",
    "Let's start by importing the necessary libraries and setting up the parameters for our simulation."
   ]
  },
  {
   "cell_type": "code",
   "execution_count": null,
   "metadata": {},
   "outputs": [],
   "source": [
    "# Parameters\n",
    "initial_height = 10.0  # meters\n",
    "initial_velocity = 5.0  # m/s\n",
    "initial_distance = 0.0  # meters\n",
    "initial_angle = 45.0  # degrees\n",
    "energy_loss_fraction = 0.8\n",
    "gravity = 9.81  # m/s^2"
   ]
  },
  {
   "cell_type": "markdown",
   "metadata": {},
   "source": [
    "### Section 2: Time of Flight and Maximum Height\n",
    "Calculate the time of flight and maximum height of the particle."
   ]
  },
  {
   "cell_type": "code",
   "execution_count": null,
   "metadata": {},
   "outputs": [],
   "source": [
    "# Time of flight\n",
    "\n",
    "# Maximum height"
   ]
  },
  {
   "cell_type": "markdown",
   "metadata": {},
   "source": [
    "### Section 3: Simulating the Bouncing Motion\n",
    "Simulate the particle's motion and bouncing off the ground with energy loss."
   ]
  },
  {
   "cell_type": "code",
   "execution_count": null,
   "metadata": {},
   "outputs": [],
   "source": [
    "# Time step\n",
    "dt = 0.1  # seconds\n",
    "tmax = 10  # seconds\n",
    "\n",
    "# Initialize arrays to store time, height, and velocity\n",
    "\n",
    "# Initial conditions\n",
    "\n",
    "# Simulation loop"
   ]
  },
  {
   "cell_type": "markdown",
   "metadata": {},
   "source": [
    "### Section 4: Creating an Animation\n",
    "Visualize the particle's motion as an animation."
   ]
  },
  {
   "cell_type": "code",
   "execution_count": null,
   "metadata": {},
   "outputs": [],
   "source": [
    "# Animation initialization function\n",
    "def init():\n",
    "    line.set_data([], [])\n",
    "    return line,\n",
    "\n",
    "# Animation update function\n",
    "def update(frame):\n",
    "    xdata = x[:frame]\n",
    "    ydata = y[:frame]\n",
    "    line.set_data(xdata, ydata)\n",
    "    return line,\n",
    "\n",
    "# Create the animation\n",
    "ani = FuncAnimation(fig, update, frames=len(time), init_func=init, blit=True)\n",
    "\n",
    "# Display the animation\n",
    "from IPython.display import HTML\n",
    "HTML(ani.to_jshtml())"
   ]
  },
  {
   "cell_type": "markdown",
   "id": "0919fc36",
   "metadata": {},
   "source": [
    "## Example 2: Parabola of Safety\n",
    "\n",
    "Lets consider the case of a projectile launched from a height $h$ with an initial velocity $u$ at an angle $\\theta$ from the horizontal. The projectile will follow a parabolic path and will land at a distance $R$ from the launch point. The parabola of safety is the curve that the projectile must not cross in order to avoid hitting an obstacle at a distance $x$ from the launch point.\n",
    "\n",
    "Show that the parabola of safety is \n",
    "\n",
    "$$\n",
    "y = \\dfrac{u^2}{2g} - \\dfrac{g x^2}{2u^2}\n",
    "$$\n",
    "\n",
    "<div style=\"text-align:center\">\n",
    "    <figure>\n",
    "        <img src=\"pic3.png\" alt=\"Parabola of Safety\" style=\"width: 800px;\">\n",
    "        <figcaption>Fig.3 Parabola of Safety</figcaption>\n",
    "    </figure>\n",
    "</div>"
   ]
  },
  {
   "cell_type": "code",
   "execution_count": null,
   "id": "18b7118f",
   "metadata": {},
   "outputs": [],
   "source": [
    "import numpy as np\n",
    "import matplotlib.pyplot as plt\n",
    "\n",
    "# Constants\n",
    "gravity = 9.81  # Acceleration due to gravity (m/s^2)\n",
    "initial_height = 0.0  # Initial height (m)\n",
    "initial_velocity = 20.0  # Initial velocity (m/s)\n",
    "energy_loss_fraction = 0.8  # Fraction of energy retained after bounce\n",
    "initial_distance = 0.0  # Initial horizontal distance (m)\n",
    "\n",
    "# Time step\n",
    "dt = 0.1  # seconds\n",
    "tmax = 10  # seconds\n",
    "\n",
    "# angles\n",
    "angles = np.arange(0, 180, 10)  # degrees\n",
    "\n",
    "# Initialize arrays to store time, height, and velocity\n",
    "\n",
    "\n",
    "# Initial conditions\n",
    "\n",
    "# Simulation loop\n",
    "\n",
    "# Plot the trajectories\n",
    "\n",
    "# plot parabola of safety"
   ]
  },
  {
   "cell_type": "markdown",
   "id": "266a54ea",
   "metadata": {},
   "source": [
    "## Example 3: Rutterford Scattering\n",
    "\n",
    "For a non-constant E field, we consider the Rutherford scattering problem. Show that the scattering angle is given by\n",
    "\n",
    "$$\n",
    "\\tan \\left(\\dfrac{\\theta}{2} \\right) = \\dfrac{q_1 q_2}{4 \\pi \\epsilon_0 \\mu b v_\\infty^2}\n",
    "$$\n",
    "\n",
    "<div style=\"text-align:center\">\n",
    "    <figure>\n",
    "        <img src=\"pic4.png\" alt=\"Rutterford Scattering Schema\" style=\"width: 700px;\">\n",
    "        <figcaption>Fig.4 Rutterford Scattering Setup</figcaption>\n",
    "    </figure>\n",
    "</div>\n",
    "\n",
    "We simulate this by substituting the constant E field with a non-constant one. We use the following E field:\n",
    "\n",
    "$$\n",
    "\\vec{E} = \\dfrac{q_2}{4 \\pi \\epsilon_0 r^2} \\hat{r}\n",
    "$$\n",
    "\n",
    "<div style=\"text-align:center\">\n",
    "    <figure>\n",
    "        <img src=\"pic5.png\" alt=\"Alpha Particle Trajectory\" style=\"width: 500px;\">\n",
    "        <figcaption>Fig.5 Alpha Particle Trajectory</figcaption>\n",
    "    </figure>\n",
    "</div>\n",
    "\n",
    "The relationship between the scattering angle and the impact parameter can verified:\n",
    "\n",
    "<div style=\"text-align:center\">\n",
    "    <figure>\n",
    "        <img src=\"fig6.png\" alt=\"Alpha Particle Trajectory\" style=\"width: 500px;\">\n",
    "        <figcaption>Fig.6 $b$ vs $\\theta$</figcaption>\n",
    "    </figure>\n",
    "</div>\n"
   ]
  },
  {
   "cell_type": "code",
   "execution_count": null,
   "id": "12e86462",
   "metadata": {},
   "outputs": [],
   "source": [
    "import numpy as np\n",
    "import matplotlib.pyplot as plt\n",
    "\n",
    "# Constants\n",
    "\n",
    "# Initial conditions\n",
    "\n",
    "x0 = -100 # Initial distance from gold nucleus \n",
    "y0 = 2\n",
    "\n",
    "# Simulation parameters\n",
    "num_steps = 1000\n",
    "dt = 1  # Time step in seconds\n",
    "\n",
    "# Initialize arrays to store particle positions\n",
    "\n",
    "\n",
    "# Initial position and velocity\n",
    "x_positions[0] = x0\n",
    "y_positions[0] = y0\n",
    "vx[0] = alpha_initial_velocity\n",
    "vy[0] = 0  # Since particle comes from -x axis\n",
    "\n",
    "# Simulation loop\n",
    "\n",
    "\n",
    "# Plot the trajectory\n"
   ]
  }
 ],
 "metadata": {
  "kernelspec": {
   "display_name": "Python 3",
   "language": "python",
   "name": "python3"
  },
  "language_info": {
   "codemirror_mode": {
    "name": "ipython",
    "version": 3
   },
   "file_extension": ".py",
   "mimetype": "text/x-python",
   "name": "python",
   "nbconvert_exporter": "python",
   "pygments_lexer": "ipython3",
   "version": "3.9.6"
  }
 },
 "nbformat": 4,
 "nbformat_minor": 5
}
